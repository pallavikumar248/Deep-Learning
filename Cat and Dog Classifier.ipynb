{
  "nbformat": 4,
  "nbformat_minor": 0,
  "metadata": {
    "colab": {
      "name": "Cats vs. Dogs Classifier.ipynb",
      "provenance": [],
      "collapsed_sections": []
    },
    "kernelspec": {
      "name": "python3",
      "display_name": "Python 3"
    },
    "accelerator": "TPU"
  },
  "cells": [
    {
      "cell_type": "markdown",
      "metadata": {
        "id": "FhGO1j6o3NAR",
        "colab_type": "text"
      },
      "source": [
        "# **Cats and Dogs Classification**\n",
        "*Classifying whether a given image is of a cat or a dog using Convolution Neural Network (CNN)*\n",
        "\n",
        "*Dataset Link: https://www.kaggle.com/tongpython/cat-and-dog*"
      ]
    },
    {
      "cell_type": "code",
      "metadata": {
        "id": "CWlHepHI0C_v",
        "colab_type": "code",
        "outputId": "6bfe303f-6363-49f2-c038-663e1faa6784",
        "colab": {
          "base_uri": "https://localhost:8080/",
          "height": 129
        }
      },
      "source": [
        "# Connecting Google Colab with Google Drive\n",
        "from google.colab import drive\n",
        "drive.mount('/content/drive/')"
      ],
      "execution_count": 1,
      "outputs": [
        {
          "output_type": "stream",
          "text": [
            "Go to this URL in a browser: https://accounts.google.com/o/oauth2/auth?client_id=947318989803-6bn6qk8qdgf4n4g3pfee6491hc0brc4i.apps.googleusercontent.com&redirect_uri=urn%3aietf%3awg%3aoauth%3a2.0%3aoob&response_type=code&scope=email%20https%3a%2f%2fwww.googleapis.com%2fauth%2fdocs.test%20https%3a%2f%2fwww.googleapis.com%2fauth%2fdrive%20https%3a%2f%2fwww.googleapis.com%2fauth%2fdrive.photos.readonly%20https%3a%2f%2fwww.googleapis.com%2fauth%2fpeopleapi.readonly\n",
            "\n",
            "Enter your authorization code:\n",
            "··········\n",
            "Mounted at /content/drive/\n"
          ],
          "name": "stdout"
        }
      ]
    },
    {
      "cell_type": "markdown",
      "metadata": {
        "id": "oxQxCBWyoGPE",
        "colab_type": "text"
      },
      "source": [
        "## Part 1 - Data Preprocessing"
      ]
    },
    {
      "cell_type": "code",
      "metadata": {
        "id": "cCl2fxSle5bd",
        "colab_type": "code",
        "outputId": "c9b4e4c7-c926-4d3b-ed3d-e3ce0e92ecc5",
        "colab": {
          "base_uri": "https://localhost:8080/",
          "height": 35
        }
      },
      "source": [
        "# Importing essential libraries\n",
        "from keras.preprocessing.image import ImageDataGenerator"
      ],
      "execution_count": 2,
      "outputs": [
        {
          "output_type": "stream",
          "text": [
            "Using TensorFlow backend.\n"
          ],
          "name": "stderr"
        }
      ]
    },
    {
      "cell_type": "code",
      "metadata": {
        "id": "ZJxhZhkNWsqq",
        "colab_type": "code",
        "outputId": "082c19fb-e4af-4051-f58f-4cd5965c6e80",
        "colab": {
          "base_uri": "https://localhost:8080/",
          "height": 35
        }
      },
      "source": [
        "# Preprocessing the Training set\n",
        "\n",
        "# Data Augmentation\n",
        "train_datagen = ImageDataGenerator(rescale=1./255,\n",
        "                                   shear_range=0.2,\n",
        "                                   zoom_range=0.2,\n",
        "                                   horizontal_flip=True)\n",
        "\n",
        "# Importing Training set\n",
        "training_set = train_datagen.flow_from_directory('/content/drive/My Drive/Colab Notebooks/Datasets/cats vs dogs - dataset/training_set',\n",
        "                                                    target_size=(64, 64),\n",
        "                                                    batch_size=32,\n",
        "                                                    class_mode='binary')"
      ],
      "execution_count": 3,
      "outputs": [
        {
          "output_type": "stream",
          "text": [
            "Found 8000 images belonging to 2 classes.\n"
          ],
          "name": "stdout"
        }
      ]
    },
    {
      "cell_type": "code",
      "metadata": {
        "id": "L2lFLWIrXqQS",
        "colab_type": "code",
        "outputId": "b6960323-73a5-4308-dc7c-5dcb94812f22",
        "colab": {
          "base_uri": "https://localhost:8080/",
          "height": 35
        }
      },
      "source": [
        "# Preprocessing the Test set\n",
        "\n",
        "# Feature Scaling\n",
        "test_datagen = ImageDataGenerator(rescale=1./255)\n",
        "\n",
        "# Importing Test set\n",
        "test_set = test_datagen.flow_from_directory('/content/drive/My Drive/Colab Notebooks/Datasets/cats vs dogs - dataset/test_set',\n",
        "                                            target_size=(64, 64),\n",
        "                                            batch_size=32,\n",
        "                                            class_mode='binary')"
      ],
      "execution_count": 4,
      "outputs": [
        {
          "output_type": "stream",
          "text": [
            "Found 2000 images belonging to 2 classes.\n"
          ],
          "name": "stdout"
        }
      ]
    },
    {
      "cell_type": "markdown",
      "metadata": {
        "id": "af8O4l90gk7B",
        "colab_type": "text"
      },
      "source": [
        "## Part 2 - Building the CNN"
      ]
    },
    {
      "cell_type": "code",
      "metadata": {
        "id": "8OuHRugqY_ZL",
        "colab_type": "code",
        "colab": {}
      },
      "source": [
        "# Importing essential libraries\n",
        "from keras.models import Sequential\n",
        "from keras.layers import Conv2D, MaxPool2D, Flatten, Dense"
      ],
      "execution_count": 0,
      "outputs": []
    },
    {
      "cell_type": "code",
      "metadata": {
        "id": "YhQVckrfZWFc",
        "colab_type": "code",
        "colab": {}
      },
      "source": [
        "# Initialising the CNN\n",
        "cnn = Sequential()"
      ],
      "execution_count": 0,
      "outputs": []
    },
    {
      "cell_type": "code",
      "metadata": {
        "id": "BCvNuryfZhM7",
        "colab_type": "code",
        "colab": {}
      },
      "source": [
        "# Step 1 - Add Convolution Layer\n",
        "cnn.add(Conv2D(filters=32, kernel_size=3, activation='relu', input_shape=[64, 64, 3]))"
      ],
      "execution_count": 0,
      "outputs": []
    },
    {
      "cell_type": "code",
      "metadata": {
        "id": "d989lotwb2DF",
        "colab_type": "code",
        "colab": {}
      },
      "source": [
        "# Step 2 - Add Pooling Layer\n",
        "cnn.add(MaxPool2D(pool_size=2, strides=2))"
      ],
      "execution_count": 0,
      "outputs": []
    },
    {
      "cell_type": "code",
      "metadata": {
        "id": "qjtkq0jXcMsc",
        "colab_type": "code",
        "colab": {}
      },
      "source": [
        "# Add second onvolutional layer with pooling\n",
        "cnn.add(Conv2D(filters=32, kernel_size=3, activation='relu'))\n",
        "cnn.add(MaxPool2D(pool_size=2, strides=2))"
      ],
      "execution_count": 0,
      "outputs": []
    },
    {
      "cell_type": "code",
      "metadata": {
        "id": "KZPkJv_scoVE",
        "colab_type": "code",
        "colab": {}
      },
      "source": [
        "# Step 3 - Add Flattening Layer\n",
        "cnn.add(Flatten())"
      ],
      "execution_count": 0,
      "outputs": []
    },
    {
      "cell_type": "code",
      "metadata": {
        "id": "qeuHtMxGcxrj",
        "colab_type": "code",
        "colab": {}
      },
      "source": [
        "# Step 4 - Add Full Connected Layer\n",
        "cnn.add(Dense(units=128, activation='relu'))"
      ],
      "execution_count": 0,
      "outputs": []
    },
    {
      "cell_type": "code",
      "metadata": {
        "id": "YgF3PhTMdG_k",
        "colab_type": "code",
        "colab": {}
      },
      "source": [
        "# Step 5 - Add Output Layer\n",
        "cnn.add(Dense(units=1, activation='sigmoid'))"
      ],
      "execution_count": 0,
      "outputs": []
    },
    {
      "cell_type": "code",
      "metadata": {
        "id": "9muTk0ztobBx",
        "colab_type": "code",
        "colab": {
          "base_uri": "https://localhost:8080/",
          "height": 424
        },
        "outputId": "6e593107-7052-4a32-feb2-c2f28856f348"
      },
      "source": [
        "cnn.summary()"
      ],
      "execution_count": 15,
      "outputs": [
        {
          "output_type": "stream",
          "text": [
            "Model: \"sequential_1\"\n",
            "_________________________________________________________________\n",
            "Layer (type)                 Output Shape              Param #   \n",
            "=================================================================\n",
            "conv2d_1 (Conv2D)            (None, 62, 62, 32)        896       \n",
            "_________________________________________________________________\n",
            "max_pooling2d_1 (MaxPooling2 (None, 31, 31, 32)        0         \n",
            "_________________________________________________________________\n",
            "conv2d_2 (Conv2D)            (None, 29, 29, 32)        9248      \n",
            "_________________________________________________________________\n",
            "max_pooling2d_2 (MaxPooling2 (None, 14, 14, 32)        0         \n",
            "_________________________________________________________________\n",
            "flatten_1 (Flatten)          (None, 6272)              0         \n",
            "_________________________________________________________________\n",
            "dense_1 (Dense)              (None, 128)               802944    \n",
            "_________________________________________________________________\n",
            "dense_2 (Dense)              (None, 1)                 129       \n",
            "=================================================================\n",
            "Total params: 813,217\n",
            "Trainable params: 813,217\n",
            "Non-trainable params: 0\n",
            "_________________________________________________________________\n"
          ],
          "name": "stdout"
        }
      ]
    },
    {
      "cell_type": "markdown",
      "metadata": {
        "id": "D6XkI90snSDl",
        "colab_type": "text"
      },
      "source": [
        "## Part 3 - Training the CNN"
      ]
    },
    {
      "cell_type": "code",
      "metadata": {
        "id": "xUG0Mo7mdwPt",
        "colab_type": "code",
        "colab": {}
      },
      "source": [
        "# Compiling the CNN\n",
        "cnn.compile(optimizer='adam', loss='binary_crossentropy', metrics=['accuracy'])"
      ],
      "execution_count": 0,
      "outputs": []
    },
    {
      "cell_type": "code",
      "metadata": {
        "id": "Emku4-AeeBNU",
        "colab_type": "code",
        "outputId": "93c4a48b-110d-4c9b-8da8-e1ae7c2675d4",
        "colab": {
          "base_uri": "https://localhost:8080/",
          "height": 941
        }
      },
      "source": [
        "# Training the CNN on the Training set and evaluating it on the Test set\n",
        "model_history = cnn.fit(x=training_set, validation_data=test_set, epochs=25)"
      ],
      "execution_count": 14,
      "outputs": [
        {
          "output_type": "stream",
          "text": [
            "Epoch 1/25\n",
            "250/250 [==============================] - 2159s 9s/step - loss: 0.6866 - accuracy: 0.5598 - val_loss: 0.6859 - val_accuracy: 0.6215\n",
            "Epoch 2/25\n",
            "250/250 [==============================] - 79s 316ms/step - loss: 0.6399 - accuracy: 0.6390 - val_loss: 0.4633 - val_accuracy: 0.6230\n",
            "Epoch 3/25\n",
            "250/250 [==============================] - 78s 313ms/step - loss: 0.5991 - accuracy: 0.6833 - val_loss: 0.5523 - val_accuracy: 0.7005\n",
            "Epoch 4/25\n",
            "250/250 [==============================] - 79s 315ms/step - loss: 0.5652 - accuracy: 0.6970 - val_loss: 0.4884 - val_accuracy: 0.7095\n",
            "Epoch 5/25\n",
            "250/250 [==============================] - 79s 318ms/step - loss: 0.5432 - accuracy: 0.7212 - val_loss: 0.5697 - val_accuracy: 0.7310\n",
            "Epoch 6/25\n",
            "250/250 [==============================] - 78s 313ms/step - loss: 0.5202 - accuracy: 0.7411 - val_loss: 0.6756 - val_accuracy: 0.7360\n",
            "Epoch 7/25\n",
            "250/250 [==============================] - 79s 317ms/step - loss: 0.5066 - accuracy: 0.7501 - val_loss: 0.4075 - val_accuracy: 0.7465\n",
            "Epoch 8/25\n",
            "250/250 [==============================] - 79s 316ms/step - loss: 0.4869 - accuracy: 0.7663 - val_loss: 0.3054 - val_accuracy: 0.7610\n",
            "Epoch 9/25\n",
            "250/250 [==============================] - 79s 316ms/step - loss: 0.4730 - accuracy: 0.7682 - val_loss: 0.7393 - val_accuracy: 0.7580\n",
            "Epoch 10/25\n",
            "250/250 [==============================] - 79s 316ms/step - loss: 0.4432 - accuracy: 0.7909 - val_loss: 0.4779 - val_accuracy: 0.7700\n",
            "Epoch 11/25\n",
            "250/250 [==============================] - 78s 314ms/step - loss: 0.4302 - accuracy: 0.8008 - val_loss: 0.5321 - val_accuracy: 0.7465\n",
            "Epoch 12/25\n",
            "250/250 [==============================] - 79s 316ms/step - loss: 0.4175 - accuracy: 0.8070 - val_loss: 0.3906 - val_accuracy: 0.7760\n",
            "Epoch 13/25\n",
            "250/250 [==============================] - 79s 316ms/step - loss: 0.4000 - accuracy: 0.8215 - val_loss: 0.5041 - val_accuracy: 0.7820\n",
            "Epoch 14/25\n",
            "250/250 [==============================] - 78s 313ms/step - loss: 0.3789 - accuracy: 0.8269 - val_loss: 0.3408 - val_accuracy: 0.7790\n",
            "Epoch 15/25\n",
            "250/250 [==============================] - 78s 314ms/step - loss: 0.3557 - accuracy: 0.8410 - val_loss: 0.4667 - val_accuracy: 0.7570\n",
            "Epoch 16/25\n",
            "250/250 [==============================] - 78s 313ms/step - loss: 0.3419 - accuracy: 0.8497 - val_loss: 0.8049 - val_accuracy: 0.7835\n",
            "Epoch 17/25\n",
            "250/250 [==============================] - 79s 316ms/step - loss: 0.3277 - accuracy: 0.8585 - val_loss: 0.3984 - val_accuracy: 0.7645\n",
            "Epoch 18/25\n",
            "250/250 [==============================] - 78s 313ms/step - loss: 0.3095 - accuracy: 0.8694 - val_loss: 0.3740 - val_accuracy: 0.7765\n",
            "Epoch 19/25\n",
            "250/250 [==============================] - 79s 315ms/step - loss: 0.2916 - accuracy: 0.8771 - val_loss: 0.7631 - val_accuracy: 0.7825\n",
            "Epoch 20/25\n",
            "250/250 [==============================] - 78s 313ms/step - loss: 0.2700 - accuracy: 0.8874 - val_loss: 0.6514 - val_accuracy: 0.7795\n",
            "Epoch 21/25\n",
            "250/250 [==============================] - 79s 316ms/step - loss: 0.2617 - accuracy: 0.8905 - val_loss: 0.4014 - val_accuracy: 0.7815\n",
            "Epoch 22/25\n",
            "250/250 [==============================] - 78s 313ms/step - loss: 0.2453 - accuracy: 0.9004 - val_loss: 0.8772 - val_accuracy: 0.7890\n",
            "Epoch 23/25\n",
            "250/250 [==============================] - 78s 314ms/step - loss: 0.2347 - accuracy: 0.9032 - val_loss: 0.5657 - val_accuracy: 0.7825\n",
            "Epoch 24/25\n",
            "250/250 [==============================] - 79s 314ms/step - loss: 0.2237 - accuracy: 0.9076 - val_loss: 0.8878 - val_accuracy: 0.7840\n",
            "Epoch 25/25\n",
            "250/250 [==============================] - 79s 317ms/step - loss: 0.2037 - accuracy: 0.9170 - val_loss: 0.5736 - val_accuracy: 0.7725\n"
          ],
          "name": "stdout"
        }
      ]
    },
    {
      "cell_type": "markdown",
      "metadata": {
        "id": "U3PZasO0006Z",
        "colab_type": "text"
      },
      "source": [
        "## Part 4 - Model Evaluation"
      ]
    },
    {
      "cell_type": "code",
      "metadata": {
        "id": "re1fN31A_bDy",
        "colab_type": "code",
        "outputId": "1140d6bb-7787-4857-9754-0cae6a13656a",
        "colab": {
          "base_uri": "https://localhost:8080/",
          "height": 74
        }
      },
      "source": [
        "# Importing essential libraries\n",
        "import matplotlib.pyplot as plt\n",
        "import seaborn as sns\n",
        "%matplotlib inline"
      ],
      "execution_count": 16,
      "outputs": [
        {
          "output_type": "stream",
          "text": [
            "/usr/local/lib/python3.6/dist-packages/statsmodels/tools/_testing.py:19: FutureWarning: pandas.util.testing is deprecated. Use the functions in the public API at pandas.testing instead.\n",
            "  import pandas.util.testing as tm\n"
          ],
          "name": "stderr"
        }
      ]
    },
    {
      "cell_type": "code",
      "metadata": {
        "id": "41AOhxxF_KB8",
        "colab_type": "code",
        "outputId": "906192ff-53ef-4415-ae04-760bbd2b8cf1",
        "colab": {
          "base_uri": "https://localhost:8080/",
          "height": 35
        }
      },
      "source": [
        "# List all data in history\n",
        "print(model_history.history.keys())"
      ],
      "execution_count": 17,
      "outputs": [
        {
          "output_type": "stream",
          "text": [
            "dict_keys(['val_loss', 'val_accuracy', 'loss', 'accuracy'])\n"
          ],
          "name": "stdout"
        }
      ]
    },
    {
      "cell_type": "code",
      "metadata": {
        "id": "jj_bJ1le_XVJ",
        "colab_type": "code",
        "outputId": "52c985f8-bc93-4774-9426-0b85665edc64",
        "colab": {
          "base_uri": "https://localhost:8080/",
          "height": 513
        }
      },
      "source": [
        "# Summarize history for accuracy\n",
        "plt.figure(figsize=(8,8))\n",
        "plt.plot(model_history.history['accuracy'])\n",
        "plt.plot(model_history.history['val_accuracy'])\n",
        "plt.title('Model Accuracy')\n",
        "plt.xlabel('Epoch')\n",
        "plt.ylabel('Accuracy')\n",
        "plt.legend(['Train', 'Test'], loc='lower right')\n",
        "plt.show()"
      ],
      "execution_count": 18,
      "outputs": [
        {
          "output_type": "display_data",
          "data": {
            "image/png": "[encoded data removed]",
            "text/plain": [
              "<Figure size 576x576 with 1 Axes>"
            ]
          },
          "metadata": {
            "tags": [],
            "needs_background": "light"
          }
        }
      ]
    },
    {
      "cell_type": "code",
      "metadata": {
        "id": "682AJ6gaAtmi",
        "colab_type": "code",
        "outputId": "687719d2-25a9-4f96-efdd-d4b9f646200a",
        "colab": {
          "base_uri": "https://localhost:8080/",
          "height": 513
        }
      },
      "source": [
        "# Summarize history for loss\n",
        "plt.figure(figsize=(8,8))\n",
        "plt.plot(model_history.history['loss'])\n",
        "plt.plot(model_history.history['val_loss'])\n",
        "plt.title('Model Loss')\n",
        "plt.xlabel('Epoch')\n",
        "plt.ylabel('Loss')\n",
        "plt.legend(['Train', 'Test'], loc='upper right')\n",
        "plt.show()"
      ],
      "execution_count": 19,
      "outputs": [
        {
          "output_type": "display_data",
          "data": {
            "image/png": "[encoded data removed]",
            "text/plain": [
              "<Figure size 576x576 with 1 Axes>"
            ]
          },
          "metadata": {
            "tags": [],
            "needs_background": "light"
          }
        }
      ]
    },
    {
      "cell_type": "markdown",
      "metadata": {
        "colab_type": "text",
        "id": "e0wEcJkZ_B66"
      },
      "source": [
        "## Part 5 - Making Predictions"
      ]
    },
    {
      "cell_type": "code",
      "metadata": {
        "id": "mOY7YkGZeiCV",
        "colab_type": "code",
        "colab": {}
      },
      "source": [
        "# Importing essential libraries\n",
        "import numpy as np\n",
        "from keras.preprocessing import image"
      ],
      "execution_count": 0,
      "outputs": []
    },
    {
      "cell_type": "markdown",
      "metadata": {
        "colab_type": "text",
        "id": "X7yFJ_L3dgdm"
      },
      "source": [
        "### Prediction 1\n",
        "\n",
        "*Predicting the following image:*\n",
        "\n",
        "<img src='https://drive.google.com/uc?id=1eTA9tOoKb0OJwVUhQKB68QiuzWlAGUQA' width='400px' height='300px'/>"
      ]
    },
    {
      "cell_type": "code",
      "metadata": {
        "colab_type": "code",
        "outputId": "72f7f8ed-6ec9-471d-9838-ee91a689cc06",
        "id": "tBlqA6N0dlq_",
        "colab": {
          "base_uri": "https://localhost:8080/",
          "height": 35
        }
      },
      "source": [
        "test_image = image.load_img('/content/drive/My Drive/Colab Notebooks/Datasets/cats vs dogs - dataset/single_prediction/cat_or_dog_1.jpg', target_size = (64, 64))\n",
        "test_image = image.img_to_array(test_image)\n",
        "test_image = np.expand_dims(test_image, axis = 0)\n",
        "result = cnn.predict(test_image)\n",
        "\n",
        "if result[0][0] == 1:\n",
        "  print(\"Prediction: It's a Dog's image.\")\n",
        "else:\n",
        "  print(\"Prediction: It's a Cat's image.\")"
      ],
      "execution_count": 21,
      "outputs": [
        {
          "output_type": "stream",
          "text": [
            "Prediction: It's a Dog's image.\n"
          ],
          "name": "stdout"
        }
      ]
    },
    {
      "cell_type": "markdown",
      "metadata": {
        "colab_type": "text",
        "id": "JR0N0OE7Dxcj"
      },
      "source": [
        "### Prediction 2\n",
        "\n",
        "*Predicting the following image:*\n",
        "\n",
        "<img src=\"https://drive.google.com/uc?id=1FxykYvoG5x2ob0uZClJAMv6006fz3Unf\" width=\"450px\" height=\"300px\"/>"
      ]
    },
    {
      "cell_type": "code",
      "metadata": {
        "colab_type": "code",
        "outputId": "ae25b9ad-c2d4-4042-9232-f27cc97d7b4d",
        "id": "7cK2fwXVdo-h",
        "colab": {
          "base_uri": "https://localhost:8080/",
          "height": 35
        }
      },
      "source": [
        "test_image = image.load_img('/content/drive/My Drive/Colab Notebooks/Datasets/cats vs dogs - dataset/single_prediction/cat_or_dog_2.jpg', target_size = (64, 64))\n",
        "test_image = image.img_to_array(test_image)\n",
        "test_image = np.expand_dims(test_image, axis = 0)\n",
        "result = cnn.predict(test_image)\n",
        "\n",
        "if result[0][0] == 1:\n",
        "  print(\"Prediction: It's a Dog's image.\")\n",
        "else:\n",
        "  print(\"Prediction: It's a Cat's image.\")"
      ],
      "execution_count": 22,
      "outputs": [
        {
          "output_type": "stream",
          "text": [
            "Prediction: It's a Cat's image.\n"
          ],
          "name": "stdout"
        }
      ]
    },
    {
      "cell_type": "markdown",
      "metadata": {
        "colab_type": "text",
        "id": "m0RB22sJEY7d"
      },
      "source": [
        "### Prediction 3\n",
        "\n",
        "*Predicting the following image:*\n",
        "\n",
        "<img src=\"https://drive.google.com/uc?id=1heVtXw_DN4iNhe17sWYbXFz4OEryo0l9\" width=\"450px\" height=\"300px\"/>"
      ]
    },
    {
      "cell_type": "code",
      "metadata": {
        "colab_type": "code",
        "outputId": "ffa4e251-cae9-4725-d01f-1b8a6b2ae7df",
        "id": "ejysEBAddtdu",
        "colab": {
          "base_uri": "https://localhost:8080/",
          "height": 35
        }
      },
      "source": [
        "test_image = image.load_img('/content/drive/My Drive/Colab Notebooks/Datasets/cats vs dogs - dataset/single_prediction/cat_or_dog_3.jpg', target_size = (64, 64))\n",
        "test_image = image.img_to_array(test_image)\n",
        "test_image = np.expand_dims(test_image, axis = 0)\n",
        "result = cnn.predict(test_image)\n",
        "\n",
        "if result[0][0] == 1:\n",
        "  print(\"Prediction: It's a Dog's image.\")\n",
        "else:\n",
        "  print(\"Prediction: It's a Cat's image.\")"
      ],
      "execution_count": 23,
      "outputs": [
        {
          "output_type": "stream",
          "text": [
            "Prediction: It's a Dog's image.\n"
          ],
          "name": "stdout"
        }
      ]
    },
    {
      "cell_type": "markdown",
      "metadata": {
        "colab_type": "text",
        "id": "FxGbKM6WGFqr"
      },
      "source": [
        "### Prediction 4\n",
        "\n",
        "*Predicting the following image:*\n",
        "\n",
        "<img src=\"https://drive.google.com/uc?id=1zJ8yiKX1MFTYvGdMfWCPOG351E5hyEEX\" width=\"450px\" height=\"400px\"/>"
      ]
    },
    {
      "cell_type": "code",
      "metadata": {
        "colab_type": "code",
        "outputId": "da6c9137-ffd3-40eb-a89e-afba1237bfc0",
        "id": "pVGP7mjXdwr2",
        "colab": {
          "base_uri": "https://localhost:8080/",
          "height": 35
        }
      },
      "source": [
        "test_image = image.load_img('/content/drive/My Drive/Colab Notebooks/Datasets/cats vs dogs - dataset/single_prediction/cat_or_dog_4.jpg', target_size = (64, 64))\n",
        "test_image = image.img_to_array(test_image)\n",
        "test_image = np.expand_dims(test_image, axis = 0)\n",
        "result = cnn.predict(test_image)\n",
        "\n",
        "if result[0][0] == 1:\n",
        "  print(\"Prediction: It's a Dog's image.\")\n",
        "else:\n",
        "  print(\"Prediction: It's a Cat's image.\")"
      ],
      "execution_count": 28,
      "outputs": [
        {
          "output_type": "stream",
          "text": [
            "Prediction: It's a Dog's image.\n"
          ],
          "name": "stdout"
        }
      ]
    }
  ]
}
